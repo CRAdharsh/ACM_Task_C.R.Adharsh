{
  "nbformat": 4,
  "nbformat_minor": 0,
  "metadata": {
    "colab": {
      "provenance": [],
      "authorship_tag": "ABX9TyPxO28yiP4hNdCJdurah2t1",
      "include_colab_link": true
    },
    "kernelspec": {
      "name": "python3",
      "display_name": "Python 3"
    },
    "language_info": {
      "name": "python"
    }
  },
  "cells": [
    {
      "cell_type": "markdown",
      "metadata": {
        "id": "view-in-github",
        "colab_type": "text"
      },
      "source": [
        "<a href=\"https://colab.research.google.com/github/CRAdharsh/ACM_Task_C.R.Adharsh/blob/main/Task_2.ipynb\" target=\"_parent\"><img src=\"https://colab.research.google.com/assets/colab-badge.svg\" alt=\"Open In Colab\"/></a>"
      ]
    },
    {
      "cell_type": "code",
      "source": [
        "!pip install scikit-learn"
      ],
      "metadata": {
        "colab": {
          "base_uri": "https://localhost:8080/"
        },
        "id": "Z6z6dggSUNZm",
        "outputId": "09dc7de9-c075-44a4-bbfe-aa0f350eed73"
      },
      "execution_count": null,
      "outputs": [
        {
          "output_type": "stream",
          "name": "stdout",
          "text": [
            "Requirement already satisfied: scikit-learn in /usr/local/lib/python3.10/dist-packages (1.3.2)\n",
            "Requirement already satisfied: numpy<2.0,>=1.17.3 in /usr/local/lib/python3.10/dist-packages (from scikit-learn) (1.26.4)\n",
            "Requirement already satisfied: scipy>=1.5.0 in /usr/local/lib/python3.10/dist-packages (from scikit-learn) (1.13.1)\n",
            "Requirement already satisfied: joblib>=1.1.1 in /usr/local/lib/python3.10/dist-packages (from scikit-learn) (1.4.2)\n",
            "Requirement already satisfied: threadpoolctl>=2.0.0 in /usr/local/lib/python3.10/dist-packages (from scikit-learn) (3.5.0)\n"
          ]
        }
      ]
    },
    {
      "cell_type": "markdown",
      "source": [
        "# Progress 1 : Dataset selection (for Classification)"
      ],
      "metadata": {
        "id": "CcrrddUZFUpB"
      }
    },
    {
      "cell_type": "code",
      "execution_count": 22,
      "metadata": {
        "id": "foTj-DxxKhmS"
      },
      "outputs": [],
      "source": [
        "from sklearn.datasets import load_iris\n",
        "import pandas as pd\n",
        "iris = load_iris()\n",
        "X = iris.data\n",
        "y = iris.target"
      ]
    },
    {
      "cell_type": "code",
      "source": [
        "import pandas as pd\n",
        "df1 = pd.DataFrame(iris['data'], columns=iris['feature_names'])\n",
        "print(df1)"
      ],
      "metadata": {
        "colab": {
          "base_uri": "https://localhost:8080/"
        },
        "id": "_tCIQUGsVKbe",
        "outputId": "134e63fc-023e-47ac-dc0a-d62a01d85a8f"
      },
      "execution_count": 23,
      "outputs": [
        {
          "output_type": "stream",
          "name": "stdout",
          "text": [
            "     sepal length (cm)  sepal width (cm)  petal length (cm)  petal width (cm)\n",
            "0                  5.1               3.5                1.4               0.2\n",
            "1                  4.9               3.0                1.4               0.2\n",
            "2                  4.7               3.2                1.3               0.2\n",
            "3                  4.6               3.1                1.5               0.2\n",
            "4                  5.0               3.6                1.4               0.2\n",
            "..                 ...               ...                ...               ...\n",
            "145                6.7               3.0                5.2               2.3\n",
            "146                6.3               2.5                5.0               1.9\n",
            "147                6.5               3.0                5.2               2.0\n",
            "148                6.2               3.4                5.4               2.3\n",
            "149                5.9               3.0                5.1               1.8\n",
            "\n",
            "[150 rows x 4 columns]\n"
          ]
        }
      ]
    },
    {
      "cell_type": "markdown",
      "source": [
        "# Progress 1 : Dataset Selection (for Regression)"
      ],
      "metadata": {
        "id": "e_QBIWjmPzNj"
      }
    },
    {
      "cell_type": "code",
      "source": [
        "from sklearn.datasets import fetch_california_housing\n",
        "import pandas as pd\n",
        "housing = fetch_california_housing()\n",
        "df2 = pd.DataFrame(housing.data, columns=housing.feature_names)\n",
        "print(df2)"
      ],
      "metadata": {
        "colab": {
          "base_uri": "https://localhost:8080/"
        },
        "id": "eCp1Lros5-KV",
        "outputId": "a4502ac4-aadc-4037-d0a2-03f79ff6ea3e"
      },
      "execution_count": 24,
      "outputs": [
        {
          "output_type": "stream",
          "name": "stdout",
          "text": [
            "       MedInc  HouseAge  AveRooms  AveBedrms  Population  AveOccup  Latitude  \\\n",
            "0      8.3252      41.0  6.984127   1.023810       322.0  2.555556     37.88   \n",
            "1      8.3014      21.0  6.238137   0.971880      2401.0  2.109842     37.86   \n",
            "2      7.2574      52.0  8.288136   1.073446       496.0  2.802260     37.85   \n",
            "3      5.6431      52.0  5.817352   1.073059       558.0  2.547945     37.85   \n",
            "4      3.8462      52.0  6.281853   1.081081       565.0  2.181467     37.85   \n",
            "...       ...       ...       ...        ...         ...       ...       ...   \n",
            "20635  1.5603      25.0  5.045455   1.133333       845.0  2.560606     39.48   \n",
            "20636  2.5568      18.0  6.114035   1.315789       356.0  3.122807     39.49   \n",
            "20637  1.7000      17.0  5.205543   1.120092      1007.0  2.325635     39.43   \n",
            "20638  1.8672      18.0  5.329513   1.171920       741.0  2.123209     39.43   \n",
            "20639  2.3886      16.0  5.254717   1.162264      1387.0  2.616981     39.37   \n",
            "\n",
            "       Longitude  \n",
            "0        -122.23  \n",
            "1        -122.22  \n",
            "2        -122.24  \n",
            "3        -122.25  \n",
            "4        -122.25  \n",
            "...          ...  \n",
            "20635    -121.09  \n",
            "20636    -121.21  \n",
            "20637    -121.22  \n",
            "20638    -121.32  \n",
            "20639    -121.24  \n",
            "\n",
            "[20640 rows x 8 columns]\n"
          ]
        }
      ]
    },
    {
      "cell_type": "markdown",
      "source": [
        "# Progress 2 : Preprocessing (for classification)"
      ],
      "metadata": {
        "id": "2MfuKbV5FiBH"
      }
    },
    {
      "cell_type": "code",
      "source": [
        "df1.loc[0:5,'sepal length (cm)'] = None\n",
        "df1.loc[2:7,'sepal width (cm)'] = None\n",
        "df1.loc[3:8,'petal length (cm)'] = None\n",
        "df1.loc[4:9,'petal width (cm)'] = None\n",
        "print(df1)"
      ],
      "metadata": {
        "colab": {
          "base_uri": "https://localhost:8080/"
        },
        "id": "ISh1gUYkU1sv",
        "outputId": "fd244304-3146-4d4a-f1ac-f42d859cfd5b"
      },
      "execution_count": 25,
      "outputs": [
        {
          "output_type": "stream",
          "name": "stdout",
          "text": [
            "     sepal length (cm)  sepal width (cm)  petal length (cm)  petal width (cm)\n",
            "0                  NaN               3.5                1.4               0.2\n",
            "1                  NaN               3.0                1.4               0.2\n",
            "2                  NaN               NaN                1.3               0.2\n",
            "3                  NaN               NaN                NaN               0.2\n",
            "4                  NaN               NaN                NaN               NaN\n",
            "..                 ...               ...                ...               ...\n",
            "145                6.7               3.0                5.2               2.3\n",
            "146                6.3               2.5                5.0               1.9\n",
            "147                6.5               3.0                5.2               2.0\n",
            "148                6.2               3.4                5.4               2.3\n",
            "149                5.9               3.0                5.1               1.8\n",
            "\n",
            "[150 rows x 4 columns]\n"
          ]
        }
      ]
    },
    {
      "cell_type": "code",
      "source": [
        "df1_filled = df1.fillna(df1.mean())\n",
        "print(df1_filled)"
      ],
      "metadata": {
        "colab": {
          "base_uri": "https://localhost:8080/"
        },
        "id": "qVh0xZ0Np9Qp",
        "outputId": "6d0df34b-a87e-4dd3-81c9-ebe88eaabf37"
      },
      "execution_count": 26,
      "outputs": [
        {
          "output_type": "stream",
          "name": "stdout",
          "text": [
            "     sepal length (cm)  sepal width (cm)  petal length (cm)  petal width (cm)\n",
            "0             5.880556          3.500000           1.400000          0.200000\n",
            "1             5.880556          3.000000           1.400000          0.200000\n",
            "2             5.880556          3.041667           1.300000          0.200000\n",
            "3             5.880556          3.041667           3.852778          0.200000\n",
            "4             5.880556          3.041667           3.852778          1.239583\n",
            "..                 ...               ...                ...               ...\n",
            "145           6.700000          3.000000           5.200000          2.300000\n",
            "146           6.300000          2.500000           5.000000          1.900000\n",
            "147           6.500000          3.000000           5.200000          2.000000\n",
            "148           6.200000          3.400000           5.400000          2.300000\n",
            "149           5.900000          3.000000           5.100000          1.800000\n",
            "\n",
            "[150 rows x 4 columns]\n"
          ]
        }
      ]
    },
    {
      "cell_type": "markdown",
      "source": [
        "# Progress 2 : Preprocessing (for regression)"
      ],
      "metadata": {
        "id": "R5RHCDZmpnCa"
      }
    },
    {
      "cell_type": "code",
      "source": [
        "df2.loc[0:5,'MedInc'] = None\n",
        "df2.loc[2:7,'HouseAge'] = None\n",
        "df2.loc[3:8,'AveRooms'] = None\n",
        "df2.loc[4:9,'AveBedrms'] = None\n",
        "print(df2)"
      ],
      "metadata": {
        "colab": {
          "base_uri": "https://localhost:8080/"
        },
        "id": "xES9CnZdpC67",
        "outputId": "8f21368d-1325-49ec-c53a-61503c3c1f93"
      },
      "execution_count": 27,
      "outputs": [
        {
          "output_type": "stream",
          "name": "stdout",
          "text": [
            "       MedInc  HouseAge  AveRooms  AveBedrms  Population  AveOccup  Latitude  \\\n",
            "0         NaN      41.0  6.984127   1.023810       322.0  2.555556     37.88   \n",
            "1         NaN      21.0  6.238137   0.971880      2401.0  2.109842     37.86   \n",
            "2         NaN       NaN  8.288136   1.073446       496.0  2.802260     37.85   \n",
            "3         NaN       NaN       NaN   1.073059       558.0  2.547945     37.85   \n",
            "4         NaN       NaN       NaN        NaN       565.0  2.181467     37.85   \n",
            "...       ...       ...       ...        ...         ...       ...       ...   \n",
            "20635  1.5603      25.0  5.045455   1.133333       845.0  2.560606     39.48   \n",
            "20636  2.5568      18.0  6.114035   1.315789       356.0  3.122807     39.49   \n",
            "20637  1.7000      17.0  5.205543   1.120092      1007.0  2.325635     39.43   \n",
            "20638  1.8672      18.0  5.329513   1.171920       741.0  2.123209     39.43   \n",
            "20639  2.3886      16.0  5.254717   1.162264      1387.0  2.616981     39.37   \n",
            "\n",
            "       Longitude  \n",
            "0        -122.23  \n",
            "1        -122.22  \n",
            "2        -122.24  \n",
            "3        -122.25  \n",
            "4        -122.25  \n",
            "...          ...  \n",
            "20635    -121.09  \n",
            "20636    -121.21  \n",
            "20637    -121.22  \n",
            "20638    -121.32  \n",
            "20639    -121.24  \n",
            "\n",
            "[20640 rows x 8 columns]\n"
          ]
        }
      ]
    },
    {
      "cell_type": "code",
      "source": [
        "df2_filled = df2.fillna(df2.mean())\n",
        "print(df2_filled)"
      ],
      "metadata": {
        "colab": {
          "base_uri": "https://localhost:8080/"
        },
        "id": "7SsYBP51rZ6A",
        "outputId": "0109ced4-ab67-4eea-e441-0f9c52f851a3"
      },
      "execution_count": 28,
      "outputs": [
        {
          "output_type": "stream",
          "name": "stdout",
          "text": [
            "         MedInc   HouseAge  AveRooms  AveBedrms  Population  AveOccup  \\\n",
            "0      3.869983  41.000000  6.984127   1.023810       322.0  2.555556   \n",
            "1      3.869983  21.000000  6.238137   0.971880      2401.0  2.109842   \n",
            "2      3.869983  28.632694  8.288136   1.073446       496.0  2.802260   \n",
            "3      3.869983  28.632694  5.429082   1.073059       558.0  2.547945   \n",
            "4      3.869983  28.632694  5.429082   1.096688       565.0  2.181467   \n",
            "...         ...        ...       ...        ...         ...       ...   \n",
            "20635  1.560300  25.000000  5.045455   1.133333       845.0  2.560606   \n",
            "20636  2.556800  18.000000  6.114035   1.315789       356.0  3.122807   \n",
            "20637  1.700000  17.000000  5.205543   1.120092      1007.0  2.325635   \n",
            "20638  1.867200  18.000000  5.329513   1.171920       741.0  2.123209   \n",
            "20639  2.388600  16.000000  5.254717   1.162264      1387.0  2.616981   \n",
            "\n",
            "       Latitude  Longitude  \n",
            "0         37.88    -122.23  \n",
            "1         37.86    -122.22  \n",
            "2         37.85    -122.24  \n",
            "3         37.85    -122.25  \n",
            "4         37.85    -122.25  \n",
            "...         ...        ...  \n",
            "20635     39.48    -121.09  \n",
            "20636     39.49    -121.21  \n",
            "20637     39.43    -121.22  \n",
            "20638     39.43    -121.32  \n",
            "20639     39.37    -121.24  \n",
            "\n",
            "[20640 rows x 8 columns]\n"
          ]
        }
      ]
    },
    {
      "cell_type": "markdown",
      "source": [
        "# Progress 3 : Building Classifier"
      ],
      "metadata": {
        "id": "rXwD6LTCsTQg"
      }
    },
    {
      "cell_type": "code",
      "source": [
        "X1 = df1_filled.values\n",
        "y1 = iris.target"
      ],
      "metadata": {
        "id": "IQLCHUKpE5jB"
      },
      "execution_count": 29,
      "outputs": []
    },
    {
      "cell_type": "code",
      "source": [
        "from sklearn.model_selection import train_test_split\n",
        "from sklearn.neighbors import KNeighborsClassifier\n",
        "from sklearn.metrics import mean_squared_error\n",
        "\n",
        "X1_train, X1_test, y1_train, y1_test = train_test_split(X1, y1, random_state = 0)\n",
        "\n",
        "knn = KNeighborsClassifier(n_neighbors = 3)\n",
        "knn.fit(X1_train, y1_train)\n",
        "y1_pred = knn.predict(X1_test)\n",
        "sc1 = knn.score(X1_test,y1_test)\n",
        "print('Score :',sc1)\n",
        "# mean squared error\n",
        "mse = mean_squared_error(y1_test, y1_pred)\n",
        "print(\"Mean Squared Error:\", mse)"
      ],
      "metadata": {
        "colab": {
          "base_uri": "https://localhost:8080/"
        },
        "id": "8aXZJsFTtAkl",
        "outputId": "55f7e895-d18e-4094-c333-14b5b8911b41"
      },
      "execution_count": 30,
      "outputs": [
        {
          "output_type": "stream",
          "name": "stdout",
          "text": [
            "Score : 0.9210526315789473\n",
            "Mean Squared Error: 0.07894736842105263\n"
          ]
        }
      ]
    },
    {
      "cell_type": "markdown",
      "source": [
        "# Progress 3 : Building Regressor"
      ],
      "metadata": {
        "id": "4uJaXoI8s8Jm"
      }
    },
    {
      "cell_type": "code",
      "source": [
        "X2 = df2_filled.values\n",
        "y2 = housing.target"
      ],
      "metadata": {
        "id": "Ugk_9t05PdW6"
      },
      "execution_count": 31,
      "outputs": []
    },
    {
      "cell_type": "code",
      "source": [
        "from sklearn.model_selection import train_test_split\n",
        "from sklearn.neighbors import KNeighborsRegressor\n",
        "from sklearn.metrics import mean_squared_error\n",
        "\n",
        "X2_train, X2_test, y2_train, y2_test = train_test_split(X2, y2, random_state = 0)\n",
        "\n",
        "knn = KNeighborsRegressor(n_neighbors = 3)\n",
        "knn.fit(X2_train, y2_train)\n",
        "y2_pred = knn.predict(X2_test)\n",
        "sc2 = knn.score(X2_test,y2_test)\n",
        "print('Score :',sc2)\n",
        "# mean squared error\n",
        "mse = mean_squared_error(y2_test, y2_pred)\n",
        "print('Mean Squared Error:', mse)"
      ],
      "metadata": {
        "colab": {
          "base_uri": "https://localhost:8080/"
        },
        "id": "1tsiWlH1QcQS",
        "outputId": "ebce1ded-f649-46ce-f115-2f9e2c49fdcb"
      },
      "execution_count": 32,
      "outputs": [
        {
          "output_type": "stream",
          "name": "stdout",
          "text": [
            "Score : 0.11476430830818452\n",
            "Mean Squared Error: 1.1701493781319272\n"
          ]
        }
      ]
    },
    {
      "cell_type": "markdown",
      "source": [
        "# Progress 3 : Building a classifier from scratch"
      ],
      "metadata": {
        "id": "_5WtkR_p1CF7"
      }
    },
    {
      "cell_type": "code",
      "source": [
        "import numpy as np\n",
        "from sklearn.model_selection import train_test_split\n",
        "from sklearn.metrics import accuracy_score\n",
        "from scipy.spatial.distance import euclidean\n",
        "\n",
        "class KNNClass:\n",
        "    def __init__(self, k=3):\n",
        "        self.k = k\n",
        "\n",
        "    def fit(self, X, y):\n",
        "        self.X_train = np.array(X)\n",
        "        self.y_train = np.array(y)\n",
        "\n",
        "    def predict(self, X):\n",
        "        X = np.array(X)\n",
        "        y_pred = [self._predict(x) for x in X]\n",
        "        return np.array(y_pred)\n",
        "\n",
        "    def _predict(self, x):\n",
        "        x = np.array(x)\n",
        "        # Calculate distances between the test sample x and each training sample\n",
        "        distances = [euclidean(x, x_train) for x_train in self.X_train]\n",
        "\n",
        "        # Get the indices of the k nearest neighbors\n",
        "        k_indices = np.argsort(distances)[:self.k]\n",
        "\n",
        "        # Get the labels of the k nearest neighbors\n",
        "        k_nearest_labels = self.y_train[k_indices]\n",
        "\n",
        "        # Find the most common label among the k nearest neighbors\n",
        "        most_common = np.bincount(k_nearest_labels).argmax()\n",
        "\n",
        "        # Return the most common label\n",
        "        return most_common"
      ],
      "metadata": {
        "id": "ZWzvwJBP1Jsa"
      },
      "execution_count": 33,
      "outputs": []
    },
    {
      "cell_type": "code",
      "source": [
        "from sklearn.model_selection import train_test_split\n",
        "from sklearn.metrics import accuracy_score\n",
        "from scipy.spatial.distance import euclidean\n",
        "from sklearn.metrics import mean_squared_error\n",
        "\n",
        "\n",
        "X1_train, X1_test, y1_train, y1_test = train_test_split(X1, y1, random_state = 0)\n",
        "\n",
        "knn = KNNClass(k=3)\n",
        "knn.fit(X1_train, y1_train)\n",
        "y1_pred = knn.predict(X1_test)\n",
        "sc3 = accuracy_score(y1_test,y1_pred)\n",
        "print('Score :',sc3)\n",
        "# mean squared error\n",
        "mse = mean_squared_error(y1_test, y1_pred)\n",
        "print('Mean Squared Error:', mse)\n"
      ],
      "metadata": {
        "colab": {
          "base_uri": "https://localhost:8080/"
        },
        "id": "fDkQs11V5cLK",
        "outputId": "45b4cdac-59aa-49b4-ab79-5a73004525a5"
      },
      "execution_count": 34,
      "outputs": [
        {
          "output_type": "stream",
          "name": "stdout",
          "text": [
            "Score : 0.9210526315789473\n",
            "Mean Squared Error: 0.07894736842105263\n"
          ]
        }
      ]
    },
    {
      "cell_type": "markdown",
      "source": [],
      "metadata": {
        "id": "sBqCY7MzaYTD"
      }
    },
    {
      "cell_type": "markdown",
      "source": [
        "# Observations"
      ],
      "metadata": {
        "id": "Hrx9LOWzVYTI"
      }
    },
    {
      "cell_type": "markdown",
      "source": [
        "1.   Accuracy: The KNN classifier is an optimised and use various metrics compared to the custom classifier.\n",
        "2.   Train time : The train time is significantly faster in the KNN classifier library as it uses C/C++ codes along with efficient data structures for trainining.\n",
        "3.   Code Complexity : KNN classifier is less complex and well tested for the user whereas the user needs a deeper knowledge on the working of a classifier to solves issues themselves.\n",
        "4.   Scalability : KNN classifiers are more scalable also supporting various techniques to speed the nearest neighbour searches. Whereas custom is less scalable as it uses simple linear searches.\n",
        "\n"
      ],
      "metadata": {
        "id": "5cUsN-q7WokZ"
      }
    }
  ]
}